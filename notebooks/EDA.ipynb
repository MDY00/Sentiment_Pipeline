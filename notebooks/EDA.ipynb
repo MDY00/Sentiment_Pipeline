{
 "cells": [
  {
   "cell_type": "markdown",
   "id": "41570b83",
   "metadata": {},
   "source": [
    "# Analiza"
   ]
  },
  {
   "cell_type": "code",
   "execution_count": null,
   "id": "98874d7d",
   "metadata": {},
   "outputs": [],
   "source": [
    "import numpy as np\n",
    "import pandas as pd\n",
    "import seaborn as sns\n",
    "from collections import Counter\n",
    "from matplotlib import pyplot as plt\n",
    "\n",
    "df = pd.read_pickle(\"data/dataset.pkl\")  \n"
   ]
  },
  {
   "cell_type": "code",
   "execution_count": null,
   "id": "f777629f",
   "metadata": {
    "scrolled": false
   },
   "outputs": [],
   "source": [
    "df.head(10)"
   ]
  },
  {
   "cell_type": "code",
   "execution_count": null,
   "id": "7c1b319b",
   "metadata": {},
   "outputs": [],
   "source": [
    "df['Words'].mean()"
   ]
  },
  {
   "cell_type": "markdown",
   "id": "42f6d22b",
   "metadata": {},
   "source": [
    "Średnia ilość słów w każdym komentarzu to ~90"
   ]
  },
  {
   "cell_type": "code",
   "execution_count": null,
   "id": "16348d98",
   "metadata": {},
   "outputs": [],
   "source": [
    "#wszystkie\n",
    "from collections import Counter\n",
    "text = df['reviewText'].astype(str).fillna('').tolist()\n",
    "wyrazy = ' '.join(text).split()\n",
    "Counter = Counter(wyrazy)\n",
    "most_occur = Counter.most_common(10)\n",
    "y = [count for tag, count in Counter.most_common(10)]\n",
    "x = [tag for tag, count in Counter.most_common(10)]\n",
    "print(most_occur)\n",
    "plt.bar(x, y, color='crimson')\n",
    "plt.title(\"All classes\")\n"
   ]
  },
  {
   "cell_type": "code",
   "execution_count": null,
   "id": "322f34bc",
   "metadata": {},
   "outputs": [],
   "source": [
    "#positive\n",
    "from collections import Counter\n",
    "df_temp = df.where(df[\"overall\"] == \"positive\")\n",
    "text = df_temp['reviewText'].fillna('').astype(str).tolist()\n",
    "wyrazy = ' '.join(text).split()\n",
    "Counter = Counter(wyrazy)\n",
    "most_occur = Counter.most_common(10)  \n",
    "\n",
    "y = [count for tag, count in Counter.most_common(10)]\n",
    "x = [tag for tag, count in Counter.most_common(10)]\n",
    "print(most_occur)\n",
    "plt.bar(x, y, color='crimson')\n",
    "plt.title(\"Positive\")"
   ]
  },
  {
   "cell_type": "code",
   "execution_count": null,
   "id": "0e6ca315",
   "metadata": {},
   "outputs": [],
   "source": [
    "#negative\n",
    "from collections import Counter\n",
    "df_temp = df.where(df[\"overall\"] == \"negative\")\n",
    "text = df_temp['reviewText'].fillna('').astype(str).tolist()\n",
    "wyrazy = ' '.join(text).split()\n",
    "Counter = Counter(wyrazy)\n",
    "most_occur = Counter.most_common(10)  \n",
    "y = [count for tag, count in Counter.most_common(10)]\n",
    "x = [tag for tag, count in Counter.most_common(10)]\n",
    "print(most_occur)\n",
    "plt.bar(x, y, color='crimson')\n",
    "plt.title(\"Negative\")"
   ]
  },
  {
   "cell_type": "code",
   "execution_count": null,
   "id": "855adb20",
   "metadata": {},
   "outputs": [],
   "source": [
    "#neutral\n",
    "from collections import Counter\n",
    "df_temp = df.where(df[\"overall\"] == \"positive\")\n",
    "text = df_temp['reviewText'].fillna('').astype(str).tolist()\n",
    "wyrazy = ' '.join(text).split()\n",
    "Counter = Counter(wyrazy)\n",
    "most_occur = Counter.most_common(10)  \n",
    "y = [count for tag, count in Counter.most_common(10)]\n",
    "x = [tag for tag, count in Counter.most_common(10)]\n",
    "print(most_occur)\n",
    "plt.bar(x, y, color='crimson')\n",
    "plt.title(\"neutral\")"
   ]
  },
  {
   "cell_type": "code",
   "execution_count": null,
   "id": "0c13b6f4",
   "metadata": {},
   "outputs": [],
   "source": [
    "df.describe()"
   ]
  },
  {
   "cell_type": "code",
   "execution_count": null,
   "id": "a602d1d0",
   "metadata": {},
   "outputs": [],
   "source": [
    "from pandas_profiling import ProfileReport\n",
    "\n",
    "profile = ProfileReport(df)\n",
    "profile.to_notebook_iframe()"
   ]
  },
  {
   "cell_type": "markdown",
   "id": "4d370c1a",
   "metadata": {},
   "source": [
    "# Ile znajduje się w zbiorze cech kategorycznych, a ile numerycznych? "
   ]
  },
  {
   "cell_type": "code",
   "execution_count": null,
   "id": "6d71386a",
   "metadata": {},
   "outputs": [],
   "source": [
    "feature_types = df.dtypes.value_counts()\n",
    "print(feature_types)"
   ]
  },
  {
   "cell_type": "markdown",
   "id": "ef246f1d",
   "metadata": {},
   "source": [
    "Cech kategorycznych jest 8, natomiast numerycznych 4. Cecha wyjściowa (overall) jest cechą kategoryczą."
   ]
  },
  {
   "cell_type": "markdown",
   "id": "146cd5fa",
   "metadata": {},
   "source": [
    "# Czy i ile w zbiorze jest brakujących wartości? Dla jakich zmiennych? Co z tego wynika?"
   ]
  },
  {
   "cell_type": "code",
   "execution_count": null,
   "id": "ec4159e5",
   "metadata": {},
   "outputs": [],
   "source": [
    "df.isna().sum()"
   ]
  },
  {
   "cell_type": "code",
   "execution_count": null,
   "id": "4d7edf72",
   "metadata": {},
   "outputs": [],
   "source": [
    "df.groupby(\"overall\").count()"
   ]
  },
  {
   "cell_type": "code",
   "execution_count": null,
   "id": "de0dfbdc",
   "metadata": {},
   "outputs": [],
   "source": [
    "percent_missing = df.isnull().sum() * 100 / len(df)\n",
    "missing_value_df = pd.DataFrame({'column_name': df.columns,\n",
    "                                 'percent_missing': percent_missing})\n",
    "missing_value_df.sort_values('percent_missing', inplace=True, ascending=False)\n",
    "print(missing_value_df)"
   ]
  },
  {
   "cell_type": "markdown",
   "id": "d85d711e",
   "metadata": {},
   "source": [
    "Jest dużo brakujących wartośći, procentowo najwięcej znajduje się w kolumnie image,vote i style. Powoduje to ze kolumny te są praktycznie możliwe do wyczyszczenia i wykorzystania ich w przyszłym treningu."
   ]
  },
  {
   "cell_type": "markdown",
   "id": "20956e02",
   "metadata": {},
   "source": [
    "# Korelacje"
   ]
  },
  {
   "cell_type": "code",
   "execution_count": null,
   "id": "f4a5cb60",
   "metadata": {},
   "outputs": [],
   "source": [
    "corr_matrix = df.corr()\n",
    "sns.heatmap(corr_matrix, cmap=\"YlGnBu\")\n",
    "print(df.corr())\n"
   ]
  },
  {
   "cell_type": "code",
   "execution_count": null,
   "id": "6991dd5c",
   "metadata": {},
   "outputs": [],
   "source": [
    "df_new = df\n",
    "df_new['overall'] = df['overall'].replace({'negative':1,'negative':2,'neutral':3, 'positive':4, 'positive':5})\n",
    "corr_matrix = df_new.corr()\n",
    "sns.heatmap(corr_matrix, cmap=\"YlGnBu\")\n",
    "print(df_new.corr())"
   ]
  },
  {
   "cell_type": "markdown",
   "id": "0bdc53bd",
   "metadata": {},
   "source": [
    "Korelacja dodatnia zauważanlna jest pomiędzy weryfikacją użytkownika, a oceną produktu.\n",
    "Korealcja ujemną zauważyć możemy pomiędzy ilością słów w opini, a weryfikacją, a co za tym idzie również długością opini co do weryfikacji. Cecha overall posiada delikatną dodatnią korelację z cechą weryfikacji."
   ]
  },
  {
   "cell_type": "code",
   "execution_count": null,
   "id": "eae11abe",
   "metadata": {},
   "outputs": [],
   "source": [
    "sns.pairplot(df)"
   ]
  }
 ],
 "metadata": {
  "kernelspec": {
   "display_name": "Python 3 (ipykernel)",
   "language": "python",
   "name": "python3"
  },
  "language_info": {
   "codemirror_mode": {
    "name": "ipython",
    "version": 3
   },
   "file_extension": ".py",
   "mimetype": "text/x-python",
   "name": "python",
   "nbconvert_exporter": "python",
   "pygments_lexer": "ipython3",
   "version": "3.10.10"
  }
 },
 "nbformat": 4,
 "nbformat_minor": 5
}
